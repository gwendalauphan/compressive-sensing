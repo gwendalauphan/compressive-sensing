{
 "cells": [
  {
   "cell_type": "code",
   "execution_count": 3,
   "id": "d2e53575",
   "metadata": {},
   "outputs": [],
   "source": [
    "import pandas as pd\n",
    "from math import *\n",
    "import numpy as np\n",
    "from scipy.sparse import csr_matrix"
   ]
  },
  {
   "cell_type": "code",
   "execution_count": 4,
   "id": "e44045fd",
   "metadata": {},
   "outputs": [],
   "source": [
    "alpha = [0,1,0,2,3,4,0,5]\n",
    "Ti =[]\n",
    "wi =[]\n",
    "for i,j in enumerate(alpha):\n",
    "    if np.linalg.norm(j) != 0:\n",
    "        Ti.append(i)\n",
    "        wi.append(j)\n",
    "        "
   ]
  },
  {
   "cell_type": "code",
   "execution_count": 5,
   "id": "923b75b1",
   "metadata": {},
   "outputs": [
    {
     "name": "stdout",
     "output_type": "stream",
     "text": [
      "[1, 3, 4, 5, 7] [1, 2, 3, 4, 5]\n"
     ]
    }
   ],
   "source": [
    "print(Ti, wi)"
   ]
  },
  {
   "cell_type": "code",
   "execution_count": 6,
   "id": "77d9c915",
   "metadata": {},
   "outputs": [
    {
     "name": "stdout",
     "output_type": "stream",
     "text": [
      "1\n"
     ]
    }
   ],
   "source": [
    "a = np.array([[0,1,1,2,3]])\n",
    "print(len(a))"
   ]
  },
  {
   "cell_type": "code",
   "execution_count": 7,
   "id": "03b879ee",
   "metadata": {},
   "outputs": [
    {
     "data": {
      "text/plain": [
       "(1, 5)"
      ]
     },
     "execution_count": 7,
     "metadata": {},
     "output_type": "execute_result"
    }
   ],
   "source": [
    "a.shape"
   ]
  },
  {
   "cell_type": "code",
   "execution_count": 8,
   "id": "cf1cc3d1",
   "metadata": {},
   "outputs": [
    {
     "ename": "TypeError",
     "evalue": "list indices must be integers or slices, not tuple",
     "output_type": "error",
     "traceback": [
      "\u001b[1;31m---------------------------------------------------------------------------\u001b[0m",
      "\u001b[1;31mTypeError\u001b[0m                                 Traceback (most recent call last)",
      "Cell \u001b[1;32mIn[8], line 3\u001b[0m\n\u001b[0;32m      1\u001b[0m a \u001b[38;5;241m=\u001b[39m [\u001b[38;5;241m0\u001b[39m,\u001b[38;5;241m1\u001b[39m,\u001b[38;5;241m2\u001b[39m,\u001b[38;5;241m3\u001b[39m,\u001b[38;5;241m4\u001b[39m]\n\u001b[0;32m      2\u001b[0m b \u001b[38;5;241m=\u001b[39m [\u001b[38;5;241m0\u001b[39m,\u001b[38;5;241m0\u001b[39m,\u001b[38;5;241m0\u001b[39m,\u001b[38;5;241m0\u001b[39m]\n\u001b[1;32m----> 3\u001b[0m \u001b[43ma\u001b[49m\u001b[43m[\u001b[49m\u001b[43m:\u001b[49m\u001b[43m,\u001b[49m\u001b[43mb\u001b[49m\u001b[43m]\u001b[49m\n",
      "\u001b[1;31mTypeError\u001b[0m: list indices must be integers or slices, not tuple"
     ]
    }
   ],
   "source": [
    "a = [0,1,2,3,4]\n",
    "b = [0,0,0,0]\n",
    "a[:,b]"
   ]
  },
  {
   "cell_type": "code",
   "execution_count": 9,
   "id": "b3864e60",
   "metadata": {},
   "outputs": [
    {
     "name": "stdout",
     "output_type": "stream",
     "text": [
      "[4 0 2 2 3 4 3 2 4 4]\n"
     ]
    },
    {
     "ename": "IndexError",
     "evalue": "index 4 is out of bounds for axis 1 with size 1",
     "output_type": "error",
     "traceback": [
      "\u001b[1;31m---------------------------------------------------------------------------\u001b[0m",
      "\u001b[1;31mIndexError\u001b[0m                                Traceback (most recent call last)",
      "Cell \u001b[1;32mIn[9], line 14\u001b[0m\n\u001b[0;32m     12\u001b[0m idxs \u001b[38;5;241m=\u001b[39m np\u001b[38;5;241m.\u001b[39mrandom\u001b[38;5;241m.\u001b[39mchoice(idx_set, num_atoms, replace\u001b[38;5;241m=\u001b[39m\u001b[38;5;28;01mTrue\u001b[39;00m)\n\u001b[0;32m     13\u001b[0m \u001b[38;5;28mprint\u001b[39m(idxs)\n\u001b[1;32m---> 14\u001b[0m D \u001b[38;5;241m=\u001b[39m \u001b[43mvector\u001b[49m\u001b[43m[\u001b[49m\u001b[43m:\u001b[49m\u001b[43m,\u001b[49m\u001b[43midxs\u001b[49m\u001b[43m]\u001b[49m \u001b[38;5;241m/\u001b[39m np\u001b[38;5;241m.\u001b[39mlinalg\u001b[38;5;241m.\u001b[39mnorm(vector[:,idxs])\n",
      "\u001b[1;31mIndexError\u001b[0m: index 4 is out of bounds for axis 1 with size 1"
     ]
    }
   ],
   "source": [
    "import numpy as np\n",
    "\n",
    "# create a random vector of shape (1,5)\n",
    "vector = np.random.rand(1,5)\n",
    "\n",
    "# reshape the vector to shape (5,1)\n",
    "vector = vector.reshape(5,1)\n",
    "\n",
    "# set up the dictionary\n",
    "num_atoms = 10\n",
    "idx_set = np.arange(5)\n",
    "idxs = np.random.choice(idx_set, num_atoms, replace=True)\n",
    "print(idxs)\n",
    "D = vector[:,idxs] / np.linalg.norm(vector[:,idxs])"
   ]
  },
  {
   "cell_type": "code",
   "execution_count": 10,
   "id": "ac47e4a0",
   "metadata": {},
   "outputs": [
    {
     "data": {
      "text/plain": [
       "2"
      ]
     },
     "execution_count": 10,
     "metadata": {},
     "output_type": "execute_result"
    }
   ],
   "source": [
    "matrixA = np.matrix([[0,12,4,90],[0,2,4,90]])\n",
    "np.linalg.matrix_rank(matrixA)"
   ]
  },
  {
   "cell_type": "code",
   "execution_count": 11,
   "id": "ef7fb83e",
   "metadata": {},
   "outputs": [
    {
     "name": "stdout",
     "output_type": "stream",
     "text": [
      "Matrice dense:\n",
      "[[7.01304230e-01 3.66102654e-01 5.64716681e-04 3.25064053e-01\n",
      "  4.37665269e-01]\n",
      " [2.22946664e-01 4.00255209e-01 9.15827546e-03 3.29129143e-02\n",
      "  2.88387691e-01]\n",
      " [7.02495928e-01 2.38320350e-01 8.81630964e-01 6.52151291e-01\n",
      "  7.50161824e-01]\n",
      " [1.68995603e-01 2.85137042e-02 5.68945693e-01 3.11712271e-02\n",
      "  2.50165002e-01]\n",
      " [4.01192919e-01 9.51122148e-01 1.11036228e-01 8.84501125e-01\n",
      "  3.14730342e-01]]\n",
      "Matrice creuse:\n",
      "[[7.01304230e-01 3.66102654e-01 5.64716681e-04 3.25064053e-01\n",
      "  0.00000000e+00]\n",
      " [2.22946664e-01 4.00255209e-01 0.00000000e+00 3.29129143e-02\n",
      "  2.88387691e-01]\n",
      " [7.02495928e-01 2.38320350e-01 8.81630964e-01 6.52151291e-01\n",
      "  7.50161824e-01]\n",
      " [1.68995603e-01 2.85137042e-02 5.68945693e-01 3.11712271e-02\n",
      "  2.50165002e-01]\n",
      " [4.01192919e-01 9.51122148e-01 1.11036228e-01 8.84501125e-01\n",
      "  3.14730342e-01]]\n"
     ]
    }
   ],
   "source": [
    "import numpy as np \n",
    "# Générer une matrice aléatoire\n",
    "shape = (5, 5)\n",
    "dense_matrix = np.random.rand(*shape)\n",
    "print(\"Matrice dense:\")\n",
    "print(dense_matrix)\n",
    "\n",
    "# Convertir la matrice en une matrice creuse de manière aléatoire\n",
    "threshold = 0.9 # seuil pour la sparsité de la matrice\n",
    "mask = np.random.rand(*shape) < threshold # masque pour la sélection des éléments à conserver\n",
    "sparse_matrix = csr_matrix(dense_matrix * mask)\n",
    "print(\"Matrice creuse:\")\n",
    "print(sparse_matrix.todense())"
   ]
  },
  {
   "cell_type": "code",
   "execution_count": 12,
   "id": "c74b6fb3",
   "metadata": {},
   "outputs": [],
   "source": [
    "low = 0\n",
    "high = 1\n",
    "size =(50,50)\n",
    "p=0.5\n",
    "M = 100\n",
    "threshold = 0.5"
   ]
  },
  {
   "cell_type": "code",
   "execution_count": 13,
   "id": "f1ddfdca",
   "metadata": {},
   "outputs": [
    {
     "name": "stdout",
     "output_type": "stream",
     "text": [
      "50 28.571726233819106\n"
     ]
    },
    {
     "data": {
      "text/plain": [
       "array([[0.65424848, 0.98070556, 0.50681922, ..., 0.35457976, 0.21100125,\n",
       "        0.08843894],\n",
       "       [0.93646042, 0.55516956, 0.30643441, ..., 0.08734422, 0.41334978,\n",
       "        0.74789555],\n",
       "       [0.34030689, 0.23427636, 0.44834357, ..., 0.99592671, 0.40863785,\n",
       "        0.71161639],\n",
       "       ...,\n",
       "       [0.04586441, 0.61416492, 0.1710644 , ..., 0.39314294, 0.93320943,\n",
       "        0.01740595],\n",
       "       [0.00931972, 0.77407299, 0.13466415, ..., 0.98096982, 0.91685519,\n",
       "        0.89319532],\n",
       "       [0.7735835 , 0.17027662, 0.87578021, ..., 0.36052847, 0.94833541,\n",
       "        0.4443931 ]])"
      ]
     },
     "execution_count": 13,
     "metadata": {},
     "output_type": "execute_result"
    }
   ],
   "source": [
    "a= np.random.uniform(low = low, high = high, size = size)\n",
    "print(np.linalg.matrix_rank(a), np.linalg.norm(a))\n",
    "a"
   ]
  },
  {
   "cell_type": "code",
   "execution_count": 14,
   "id": "7b602aca",
   "metadata": {},
   "outputs": [
    {
     "name": "stdout",
     "output_type": "stream",
     "text": [
      "50 50.0\n"
     ]
    },
    {
     "data": {
      "text/plain": [
       "array([[ 1, -1,  1, ..., -1,  1, -1],\n",
       "       [ 1,  1,  1, ..., -1, -1,  1],\n",
       "       [ 1, -1, -1, ...,  1,  1, -1],\n",
       "       ...,\n",
       "       [ 1, -1, -1, ...,  1, -1,  1],\n",
       "       [-1,  1,  1, ...,  1, -1, -1],\n",
       "       [-1,  1, -1, ..., -1,  1, -1]])"
      ]
     },
     "execution_count": 14,
     "metadata": {},
     "output_type": "execute_result"
    }
   ],
   "source": [
    "b = np.random.choice([-1, 1], size=size, p=[1-p, p])\n",
    "print(np.linalg.matrix_rank(a), np.linalg.norm(b))\n",
    "b"
   ]
  },
  {
   "cell_type": "code",
   "execution_count": 15,
   "id": "660793d7",
   "metadata": {},
   "outputs": [
    {
     "name": "stdout",
     "output_type": "stream",
     "text": [
      "50 35.62302626111375\n"
     ]
    },
    {
     "data": {
      "text/plain": [
       "array([[0, 0, 1, ..., 1, 1, 1],\n",
       "       [1, 1, 1, ..., 1, 0, 0],\n",
       "       [0, 0, 1, ..., 0, 1, 1],\n",
       "       ...,\n",
       "       [0, 1, 0, ..., 0, 1, 0],\n",
       "       [0, 1, 1, ..., 0, 1, 0],\n",
       "       [1, 0, 1, ..., 0, 0, 0]])"
      ]
     },
     "execution_count": 15,
     "metadata": {},
     "output_type": "execute_result"
    }
   ],
   "source": [
    "c = np.random.choice([0, 1], size=size, p=[1-p, p])\n",
    "print(np.linalg.matrix_rank(c), np.linalg.norm(c))\n",
    "c"
   ]
  },
  {
   "cell_type": "code",
   "execution_count": 16,
   "id": "ceee0334",
   "metadata": {},
   "outputs": [
    {
     "name": "stdout",
     "output_type": "stream",
     "text": [
      "50 0.5048619474581151\n"
     ]
    },
    {
     "data": {
      "text/plain": [
       "array([[-1.65074149e-02, -6.70734398e-03, -1.55542333e-02, ...,\n",
       "         8.47589762e-03,  1.68585786e-02,  5.80966760e-03],\n",
       "       [ 2.75062268e-03, -2.39431703e-03,  2.52280441e-04, ...,\n",
       "        -6.73327229e-04,  1.36833544e-02, -7.99035537e-03],\n",
       "       [ 6.67220949e-03, -2.79518984e-03,  9.07252189e-03, ...,\n",
       "        -2.45683994e-03,  4.77909695e-03, -7.75124279e-03],\n",
       "       ...,\n",
       "       [-1.63405233e-02, -1.08772277e-02,  6.98744749e-03, ...,\n",
       "         1.17372909e-02,  8.31265283e-05, -3.68729940e-03],\n",
       "       [-1.22404686e-02,  4.75008255e-03,  2.50718958e-03, ...,\n",
       "         1.32123786e-02, -4.81591187e-03, -1.10939166e-02],\n",
       "       [-1.02597998e-02, -8.95214427e-03, -9.25366838e-03, ...,\n",
       "        -1.77985732e-02, -1.65161719e-02,  1.47307271e-02]])"
      ]
     },
     "execution_count": 16,
     "metadata": {},
     "output_type": "execute_result"
    }
   ],
   "source": [
    "d = np.random.normal(0, 1/M, size=size)\n",
    "print(np.linalg.matrix_rank(d), np.linalg.norm(d))\n",
    "d"
   ]
  },
  {
   "cell_type": "code",
   "execution_count": 17,
   "id": "d8770483",
   "metadata": {
    "scrolled": true
   },
   "outputs": [
    {
     "name": "stdout",
     "output_type": "stream",
     "text": [
      "Matrice dense:\n",
      "[[7.27416641e-01 6.91873177e-01 7.56715844e-01 ... 1.87851505e-01\n",
      "  3.71096798e-01 2.89478744e-01]\n",
      " [9.29038569e-01 9.42936618e-01 9.10948818e-01 ... 6.29028451e-01\n",
      "  7.71026029e-01 2.95195227e-01]\n",
      " [1.32083231e-01 7.94339146e-01 9.58931907e-01 ... 1.15075192e-01\n",
      "  9.51053076e-01 1.67338164e-01]\n",
      " ...\n",
      " [9.88570647e-01 6.78448534e-04 2.07925713e-01 ... 5.35153535e-01\n",
      "  3.25966712e-02 5.57444584e-01]\n",
      " [8.21268203e-01 4.05284321e-02 9.43600886e-01 ... 4.85855279e-01\n",
      "  3.49962540e-02 2.37992992e-01]\n",
      " [4.38694732e-01 2.13686335e-02 1.66402732e-01 ... 2.65203135e-01\n",
      "  8.81858790e-01 2.83512353e-01]]\n",
      "50 28.618095973058647\n",
      "\n",
      "\n",
      "Matrice creuse:\n",
      "50 20.226542434162166\n"
     ]
    },
    {
     "data": {
      "text/plain": [
       "matrix([[7.27416641e-01, 0.00000000e+00, 0.00000000e+00, ...,\n",
       "         0.00000000e+00, 3.71096798e-01, 2.89478744e-01],\n",
       "        [0.00000000e+00, 0.00000000e+00, 9.10948818e-01, ...,\n",
       "         0.00000000e+00, 7.71026029e-01, 0.00000000e+00],\n",
       "        [0.00000000e+00, 0.00000000e+00, 0.00000000e+00, ...,\n",
       "         0.00000000e+00, 9.51053076e-01, 0.00000000e+00],\n",
       "        ...,\n",
       "        [9.88570647e-01, 6.78448534e-04, 0.00000000e+00, ...,\n",
       "         0.00000000e+00, 3.25966712e-02, 5.57444584e-01],\n",
       "        [0.00000000e+00, 4.05284321e-02, 0.00000000e+00, ...,\n",
       "         0.00000000e+00, 3.49962540e-02, 2.37992992e-01],\n",
       "        [0.00000000e+00, 2.13686335e-02, 0.00000000e+00, ...,\n",
       "         2.65203135e-01, 0.00000000e+00, 2.83512353e-01]])"
      ]
     },
     "execution_count": 17,
     "metadata": {},
     "output_type": "execute_result"
    }
   ],
   "source": [
    "dense_matrix = np.random.rand(*size)\n",
    "print(\"Matrice dense:\")\n",
    "print(dense_matrix)\n",
    "print(np.linalg.matrix_rank(dense_matrix), np.linalg.norm(dense_matrix))\n",
    "# Convertir la matrice en une matrice creuse de manière aléatoire\n",
    "threshold = 0.5 # seuil pour la sparsité de la matrice\n",
    "mask = np.random.rand(*size) < threshold # masque pour la sélection des éléments à conserver\n",
    "sparse_matrix = csr_matrix(dense_matrix * mask)\n",
    "print(\"\\n\\nMatrice creuse:\")\n",
    "e = sparse_matrix.todense()\n",
    "print(np.linalg.matrix_rank(e), np.linalg.norm(e))\n",
    "e"
   ]
  },
  {
   "cell_type": "code",
   "execution_count": 18,
   "id": "21a34964",
   "metadata": {},
   "outputs": [
    {
     "name": "stdout",
     "output_type": "stream",
     "text": [
      "    25   30   45   50   100  150  200  250\n",
      "f1  NaN  NaN  NaN  NaN  NaN  NaN  NaN  NaN\n",
      "f2  NaN  NaN  NaN  NaN  NaN  NaN  NaN  NaN\n",
      "f3  NaN  NaN  NaN  NaN  NaN  NaN  NaN  NaN\n",
      "f4  NaN  NaN  NaN  NaN  NaN  NaN  NaN  NaN\n",
      "f5  NaN  NaN  NaN  NaN  NaN  NaN  NaN  NaN\n"
     ]
    }
   ],
   "source": [
    "import pandas as pd\n",
    "import numpy as np\n",
    "\n",
    "M = [25, 30, 45, 50, 100, 150, 200, 250]\n",
    "df = pd.DataFrame(index=['f1', 'f2', 'f3', 'f4', 'f5'], columns=M)\n",
    "\n",
    "\n",
    "\n",
    "# Affichage du DataFrame\n",
    "print(df)"
   ]
  },
  {
   "cell_type": "code",
   "execution_count": 23,
   "id": "7da8c016",
   "metadata": {},
   "outputs": [
    {
     "name": "stdout",
     "output_type": "stream",
     "text": [
      "[4 0 3 3 3 1 3 2 4 0]\n"
     ]
    }
   ],
   "source": [
    "import numpy as np #Code A\n",
    "np.random.seed(0) #Code B\n",
    "s=np.random.choice(5,10)  #Code C\n",
    "print(s)# Code D"
   ]
  },
  {
   "cell_type": "code",
   "execution_count": null,
   "id": "d1b74836",
   "metadata": {},
   "outputs": [],
   "source": []
  }
 ],
 "metadata": {
  "kernelspec": {
   "display_name": "Python 3 (ipykernel)",
   "language": "python",
   "name": "python3"
  },
  "language_info": {
   "codemirror_mode": {
    "name": "ipython",
    "version": 3
   },
   "file_extension": ".py",
   "mimetype": "text/x-python",
   "name": "python",
   "nbconvert_exporter": "python",
   "pygments_lexer": "ipython3",
   "version": "3.8.3"
  }
 },
 "nbformat": 4,
 "nbformat_minor": 5
}
